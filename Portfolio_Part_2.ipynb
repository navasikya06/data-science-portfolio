{
 "cells": [
  {
   "cell_type": "markdown",
   "id": "dd3d0d54",
   "metadata": {},
   "source": [
    "## Analysis of Epinions Dataset Part 2"
   ]
  },
  {
   "cell_type": "markdown",
   "id": "ed5d4e4b",
   "metadata": {},
   "source": [
    "The goal of the second analysis task is to train linear regression models to predict users' ratings towards items. This involves a standard Data Science workflow: exploring data, building models, making predictions, and evaluating results. In this task, we will explore the impacts of feature selections and different sizes of training/testing data on the model performance. We will use another cleaned Epinions sub-dataset that is different from the one in Portfolio 1. "
   ]
  },
  {
   "cell_type": "markdown",
   "id": "507f3c50",
   "metadata": {},
   "source": [
    "### Import Cleaned Epinions Dataset\n",
    "The csv file named 'Epinions_cleaned_data_portfolio_2.csv'is provided. Please import the csv file (i.e., 'Epinions_cleaned_data_portfolio_2') and print out its total length."
   ]
  },
  {
   "cell_type": "code",
   "execution_count": 17,
   "id": "26ae92d5",
   "metadata": {},
   "outputs": [],
   "source": [
    "import pandas as pd\n",
    "import numpy as np\n",
    "import matplotlib.pyplot as plt\n",
    "%matplotlib inline\n",
    "\n",
    "from sklearn.preprocessing import OrdinalEncoder\n",
    "from sklearn.model_selection import train_test_split\n",
    "from sklearn import linear_model\n",
    "from sklearn.metrics import r2_score\n",
    "from sklearn.linear_model import LogisticRegression\n",
    "from sklearn.metrics import confusion_matrix, accuracy_score\n",
    "from sklearn.feature_selection import RFE"
   ]
  },
  {
   "cell_type": "code",
   "execution_count": 2,
   "id": "d0a5136f",
   "metadata": {},
   "outputs": [
    {
     "data": {
      "text/html": [
       "<div>\n",
       "<style scoped>\n",
       "    .dataframe tbody tr th:only-of-type {\n",
       "        vertical-align: middle;\n",
       "    }\n",
       "\n",
       "    .dataframe tbody tr th {\n",
       "        vertical-align: top;\n",
       "    }\n",
       "\n",
       "    .dataframe thead th {\n",
       "        text-align: right;\n",
       "    }\n",
       "</style>\n",
       "<table border=\"1\" class=\"dataframe\">\n",
       "  <thead>\n",
       "    <tr style=\"text-align: right;\">\n",
       "      <th></th>\n",
       "      <th>userId</th>\n",
       "      <th>timestamp</th>\n",
       "      <th>review</th>\n",
       "      <th>item</th>\n",
       "      <th>rating</th>\n",
       "      <th>helpfulness</th>\n",
       "      <th>gender</th>\n",
       "      <th>category</th>\n",
       "    </tr>\n",
       "  </thead>\n",
       "  <tbody>\n",
       "    <tr>\n",
       "      <th>0</th>\n",
       "      <td>4259</td>\n",
       "      <td>11900</td>\n",
       "      <td>Finally, Something for (Relatively) Nothing</td>\n",
       "      <td>MyPoints.com</td>\n",
       "      <td>4.0</td>\n",
       "      <td>4.0</td>\n",
       "      <td>F</td>\n",
       "      <td>Online Stores &amp; Services</td>\n",
       "    </tr>\n",
       "    <tr>\n",
       "      <th>1</th>\n",
       "      <td>4259</td>\n",
       "      <td>12000</td>\n",
       "      <td>Shocking!</td>\n",
       "      <td>Sixth Sense</td>\n",
       "      <td>5.0</td>\n",
       "      <td>4.0</td>\n",
       "      <td>F</td>\n",
       "      <td>Movies</td>\n",
       "    </tr>\n",
       "    <tr>\n",
       "      <th>2</th>\n",
       "      <td>4259</td>\n",
       "      <td>12000</td>\n",
       "      <td>Simply Shaggadelic!</td>\n",
       "      <td>Austin Powers: The Spy Who Shagged Me</td>\n",
       "      <td>5.0</td>\n",
       "      <td>4.0</td>\n",
       "      <td>F</td>\n",
       "      <td>Movies</td>\n",
       "    </tr>\n",
       "    <tr>\n",
       "      <th>3</th>\n",
       "      <td>4259</td>\n",
       "      <td>12000</td>\n",
       "      <td>Better Than The First!</td>\n",
       "      <td>Toy Story 2</td>\n",
       "      <td>5.0</td>\n",
       "      <td>3.0</td>\n",
       "      <td>F</td>\n",
       "      <td>Movies</td>\n",
       "    </tr>\n",
       "    <tr>\n",
       "      <th>4</th>\n",
       "      <td>4259</td>\n",
       "      <td>12000</td>\n",
       "      <td>Blair Witch made me appreciate this</td>\n",
       "      <td>Star Wars Episode I: The Phantom Menace</td>\n",
       "      <td>2.0</td>\n",
       "      <td>4.0</td>\n",
       "      <td>F</td>\n",
       "      <td>Movies</td>\n",
       "    </tr>\n",
       "  </tbody>\n",
       "</table>\n",
       "</div>"
      ],
      "text/plain": [
       "   userId  timestamp                                       review  \\\n",
       "0    4259      11900  Finally, Something for (Relatively) Nothing   \n",
       "1    4259      12000                                    Shocking!   \n",
       "2    4259      12000                          Simply Shaggadelic!   \n",
       "3    4259      12000                       Better Than The First!   \n",
       "4    4259      12000          Blair Witch made me appreciate this   \n",
       "\n",
       "                                      item  rating  helpfulness gender  \\\n",
       "0                             MyPoints.com     4.0          4.0      F   \n",
       "1                              Sixth Sense     5.0          4.0      F   \n",
       "2    Austin Powers: The Spy Who Shagged Me     5.0          4.0      F   \n",
       "3                              Toy Story 2     5.0          3.0      F   \n",
       "4  Star Wars Episode I: The Phantom Menace     2.0          4.0      F   \n",
       "\n",
       "                   category  \n",
       "0  Online Stores & Services  \n",
       "1                    Movies  \n",
       "2                    Movies  \n",
       "3                    Movies  \n",
       "4                    Movies  "
      ]
     },
     "execution_count": 2,
     "metadata": {},
     "output_type": "execute_result"
    }
   ],
   "source": [
    "opinion = pd.read_csv('data/Epinions_cleaned_data_portfolio_2.csv')"
   ]
  },
  {
   "cell_type": "code",
   "execution_count": 5,
   "id": "199758b1",
   "metadata": {},
   "outputs": [
    {
     "name": "stdout",
     "output_type": "stream",
     "text": [
      "2899\n"
     ]
    }
   ],
   "source": [
    "print(opinion.shape[0])"
   ]
  },
  {
   "cell_type": "markdown",
   "id": "e195ef23",
   "metadata": {},
   "source": [
    "### Explore the Dataset\n",
    "\n",
    "* Use the methods, i.e., `head()` and `info()`, to have a rough picture about the data, e.g., how many columns, and the data types of each column. \n",
    "* As our goal is to predict ratings given other columns, please get the correlations between helpfulness/gender/category/review and rating by using the `corr()` method.\n",
    "* To get the correlations between different features, you may need to first convert the categorical features (i.e., gender, category and review) into numerial values. For doing this, you may need to import `OrdinalEncoder` from `sklearn.preprocessing` (refer to the useful exmaples [here](https://pbpython.com/categorical-encoding.html))\n",
    "* Please provide ___necessary explanations/analysis___ on the correlations, and figure out which are the ___most___ and ___least___ corrleated features regarding rating (positive or negative). Try to ___discuss___ how the correlation will affect the final prediction results, if we use these features to train a regression model for rating prediction. In what follows, we will conduct experiments to verify your hypothesis."
   ]
  },
  {
   "cell_type": "code",
   "execution_count": 6,
   "id": "97815545",
   "metadata": {},
   "outputs": [
    {
     "data": {
      "text/html": [
       "<div>\n",
       "<style scoped>\n",
       "    .dataframe tbody tr th:only-of-type {\n",
       "        vertical-align: middle;\n",
       "    }\n",
       "\n",
       "    .dataframe tbody tr th {\n",
       "        vertical-align: top;\n",
       "    }\n",
       "\n",
       "    .dataframe thead th {\n",
       "        text-align: right;\n",
       "    }\n",
       "</style>\n",
       "<table border=\"1\" class=\"dataframe\">\n",
       "  <thead>\n",
       "    <tr style=\"text-align: right;\">\n",
       "      <th></th>\n",
       "      <th>userId</th>\n",
       "      <th>timestamp</th>\n",
       "      <th>review</th>\n",
       "      <th>item</th>\n",
       "      <th>rating</th>\n",
       "      <th>helpfulness</th>\n",
       "      <th>gender</th>\n",
       "      <th>category</th>\n",
       "    </tr>\n",
       "  </thead>\n",
       "  <tbody>\n",
       "    <tr>\n",
       "      <th>0</th>\n",
       "      <td>4259</td>\n",
       "      <td>11900</td>\n",
       "      <td>Finally, Something for (Relatively) Nothing</td>\n",
       "      <td>MyPoints.com</td>\n",
       "      <td>4.0</td>\n",
       "      <td>4.0</td>\n",
       "      <td>F</td>\n",
       "      <td>Online Stores &amp; Services</td>\n",
       "    </tr>\n",
       "    <tr>\n",
       "      <th>1</th>\n",
       "      <td>4259</td>\n",
       "      <td>12000</td>\n",
       "      <td>Shocking!</td>\n",
       "      <td>Sixth Sense</td>\n",
       "      <td>5.0</td>\n",
       "      <td>4.0</td>\n",
       "      <td>F</td>\n",
       "      <td>Movies</td>\n",
       "    </tr>\n",
       "    <tr>\n",
       "      <th>2</th>\n",
       "      <td>4259</td>\n",
       "      <td>12000</td>\n",
       "      <td>Simply Shaggadelic!</td>\n",
       "      <td>Austin Powers: The Spy Who Shagged Me</td>\n",
       "      <td>5.0</td>\n",
       "      <td>4.0</td>\n",
       "      <td>F</td>\n",
       "      <td>Movies</td>\n",
       "    </tr>\n",
       "    <tr>\n",
       "      <th>3</th>\n",
       "      <td>4259</td>\n",
       "      <td>12000</td>\n",
       "      <td>Better Than The First!</td>\n",
       "      <td>Toy Story 2</td>\n",
       "      <td>5.0</td>\n",
       "      <td>3.0</td>\n",
       "      <td>F</td>\n",
       "      <td>Movies</td>\n",
       "    </tr>\n",
       "    <tr>\n",
       "      <th>4</th>\n",
       "      <td>4259</td>\n",
       "      <td>12000</td>\n",
       "      <td>Blair Witch made me appreciate this</td>\n",
       "      <td>Star Wars Episode I: The Phantom Menace</td>\n",
       "      <td>2.0</td>\n",
       "      <td>4.0</td>\n",
       "      <td>F</td>\n",
       "      <td>Movies</td>\n",
       "    </tr>\n",
       "  </tbody>\n",
       "</table>\n",
       "</div>"
      ],
      "text/plain": [
       "   userId  timestamp                                       review  \\\n",
       "0    4259      11900  Finally, Something for (Relatively) Nothing   \n",
       "1    4259      12000                                    Shocking!   \n",
       "2    4259      12000                          Simply Shaggadelic!   \n",
       "3    4259      12000                       Better Than The First!   \n",
       "4    4259      12000          Blair Witch made me appreciate this   \n",
       "\n",
       "                                      item  rating  helpfulness gender  \\\n",
       "0                             MyPoints.com     4.0          4.0      F   \n",
       "1                              Sixth Sense     5.0          4.0      F   \n",
       "2    Austin Powers: The Spy Who Shagged Me     5.0          4.0      F   \n",
       "3                              Toy Story 2     5.0          3.0      F   \n",
       "4  Star Wars Episode I: The Phantom Menace     2.0          4.0      F   \n",
       "\n",
       "                   category  \n",
       "0  Online Stores & Services  \n",
       "1                    Movies  \n",
       "2                    Movies  \n",
       "3                    Movies  \n",
       "4                    Movies  "
      ]
     },
     "execution_count": 6,
     "metadata": {},
     "output_type": "execute_result"
    }
   ],
   "source": [
    "opinion.head()"
   ]
  },
  {
   "cell_type": "code",
   "execution_count": 8,
   "id": "fa71ee63",
   "metadata": {},
   "outputs": [
    {
     "name": "stdout",
     "output_type": "stream",
     "text": [
      "<class 'pandas.core.frame.DataFrame'>\n",
      "RangeIndex: 2899 entries, 0 to 2898\n",
      "Data columns (total 8 columns):\n",
      " #   Column       Non-Null Count  Dtype  \n",
      "---  ------       --------------  -----  \n",
      " 0   userId       2899 non-null   int64  \n",
      " 1   timestamp    2899 non-null   int64  \n",
      " 2   review       2899 non-null   object \n",
      " 3   item         2899 non-null   object \n",
      " 4   rating       2899 non-null   float64\n",
      " 5   helpfulness  2899 non-null   float64\n",
      " 6   gender       2899 non-null   object \n",
      " 7   category     2899 non-null   object \n",
      "dtypes: float64(2), int64(2), object(4)\n",
      "memory usage: 181.3+ KB\n"
     ]
    }
   ],
   "source": [
    "opinion.info()"
   ]
  },
  {
   "cell_type": "code",
   "execution_count": 16,
   "id": "7cfb5f59",
   "metadata": {},
   "outputs": [
    {
     "data": {
      "text/html": [
       "<div>\n",
       "<style scoped>\n",
       "    .dataframe tbody tr th:only-of-type {\n",
       "        vertical-align: middle;\n",
       "    }\n",
       "\n",
       "    .dataframe tbody tr th {\n",
       "        vertical-align: top;\n",
       "    }\n",
       "\n",
       "    .dataframe thead th {\n",
       "        text-align: right;\n",
       "    }\n",
       "</style>\n",
       "<table border=\"1\" class=\"dataframe\">\n",
       "  <thead>\n",
       "    <tr style=\"text-align: right;\">\n",
       "      <th></th>\n",
       "      <th>userId</th>\n",
       "      <th>timestamp</th>\n",
       "      <th>rating</th>\n",
       "      <th>helpfulness</th>\n",
       "    </tr>\n",
       "  </thead>\n",
       "  <tbody>\n",
       "    <tr>\n",
       "      <th>userId</th>\n",
       "      <td>1.000000</td>\n",
       "      <td>-0.036399</td>\n",
       "      <td>0.008164</td>\n",
       "      <td>-0.016841</td>\n",
       "    </tr>\n",
       "    <tr>\n",
       "      <th>timestamp</th>\n",
       "      <td>-0.036399</td>\n",
       "      <td>1.000000</td>\n",
       "      <td>0.019860</td>\n",
       "      <td>0.003638</td>\n",
       "    </tr>\n",
       "    <tr>\n",
       "      <th>rating</th>\n",
       "      <td>0.008164</td>\n",
       "      <td>0.019860</td>\n",
       "      <td>1.000000</td>\n",
       "      <td>-0.016832</td>\n",
       "    </tr>\n",
       "    <tr>\n",
       "      <th>helpfulness</th>\n",
       "      <td>-0.016841</td>\n",
       "      <td>0.003638</td>\n",
       "      <td>-0.016832</td>\n",
       "      <td>1.000000</td>\n",
       "    </tr>\n",
       "  </tbody>\n",
       "</table>\n",
       "</div>"
      ],
      "text/plain": [
       "               userId  timestamp    rating  helpfulness\n",
       "userId       1.000000  -0.036399  0.008164    -0.016841\n",
       "timestamp   -0.036399   1.000000  0.019860     0.003638\n",
       "rating       0.008164   0.019860  1.000000    -0.016832\n",
       "helpfulness -0.016841   0.003638 -0.016832     1.000000"
      ]
     },
     "execution_count": 16,
     "metadata": {},
     "output_type": "execute_result"
    }
   ],
   "source": [
    "opinion.corr()"
   ]
  },
  {
   "cell_type": "code",
   "execution_count": 19,
   "id": "5b091dc3",
   "metadata": {},
   "outputs": [
    {
     "data": {
      "text/html": [
       "<div>\n",
       "<style scoped>\n",
       "    .dataframe tbody tr th:only-of-type {\n",
       "        vertical-align: middle;\n",
       "    }\n",
       "\n",
       "    .dataframe tbody tr th {\n",
       "        vertical-align: top;\n",
       "    }\n",
       "\n",
       "    .dataframe thead th {\n",
       "        text-align: right;\n",
       "    }\n",
       "</style>\n",
       "<table border=\"1\" class=\"dataframe\">\n",
       "  <thead>\n",
       "    <tr style=\"text-align: right;\">\n",
       "      <th></th>\n",
       "      <th>gender</th>\n",
       "      <th>gender_code</th>\n",
       "    </tr>\n",
       "  </thead>\n",
       "  <tbody>\n",
       "    <tr>\n",
       "      <th>0</th>\n",
       "      <td>F</td>\n",
       "      <td>0.0</td>\n",
       "    </tr>\n",
       "    <tr>\n",
       "      <th>1</th>\n",
       "      <td>F</td>\n",
       "      <td>0.0</td>\n",
       "    </tr>\n",
       "    <tr>\n",
       "      <th>2</th>\n",
       "      <td>F</td>\n",
       "      <td>0.0</td>\n",
       "    </tr>\n",
       "    <tr>\n",
       "      <th>3</th>\n",
       "      <td>F</td>\n",
       "      <td>0.0</td>\n",
       "    </tr>\n",
       "    <tr>\n",
       "      <th>4</th>\n",
       "      <td>F</td>\n",
       "      <td>0.0</td>\n",
       "    </tr>\n",
       "    <tr>\n",
       "      <th>5</th>\n",
       "      <td>F</td>\n",
       "      <td>0.0</td>\n",
       "    </tr>\n",
       "    <tr>\n",
       "      <th>6</th>\n",
       "      <td>F</td>\n",
       "      <td>0.0</td>\n",
       "    </tr>\n",
       "    <tr>\n",
       "      <th>7</th>\n",
       "      <td>F</td>\n",
       "      <td>0.0</td>\n",
       "    </tr>\n",
       "    <tr>\n",
       "      <th>8</th>\n",
       "      <td>F</td>\n",
       "      <td>0.0</td>\n",
       "    </tr>\n",
       "    <tr>\n",
       "      <th>9</th>\n",
       "      <td>F</td>\n",
       "      <td>0.0</td>\n",
       "    </tr>\n",
       "    <tr>\n",
       "      <th>10</th>\n",
       "      <td>F</td>\n",
       "      <td>0.0</td>\n",
       "    </tr>\n",
       "    <tr>\n",
       "      <th>11</th>\n",
       "      <td>M</td>\n",
       "      <td>1.0</td>\n",
       "    </tr>\n",
       "    <tr>\n",
       "      <th>12</th>\n",
       "      <td>M</td>\n",
       "      <td>1.0</td>\n",
       "    </tr>\n",
       "    <tr>\n",
       "      <th>13</th>\n",
       "      <td>M</td>\n",
       "      <td>1.0</td>\n",
       "    </tr>\n",
       "    <tr>\n",
       "      <th>14</th>\n",
       "      <td>M</td>\n",
       "      <td>1.0</td>\n",
       "    </tr>\n",
       "    <tr>\n",
       "      <th>15</th>\n",
       "      <td>M</td>\n",
       "      <td>1.0</td>\n",
       "    </tr>\n",
       "    <tr>\n",
       "      <th>16</th>\n",
       "      <td>M</td>\n",
       "      <td>1.0</td>\n",
       "    </tr>\n",
       "    <tr>\n",
       "      <th>17</th>\n",
       "      <td>M</td>\n",
       "      <td>1.0</td>\n",
       "    </tr>\n",
       "    <tr>\n",
       "      <th>18</th>\n",
       "      <td>M</td>\n",
       "      <td>1.0</td>\n",
       "    </tr>\n",
       "    <tr>\n",
       "      <th>19</th>\n",
       "      <td>M</td>\n",
       "      <td>1.0</td>\n",
       "    </tr>\n",
       "  </tbody>\n",
       "</table>\n",
       "</div>"
      ],
      "text/plain": [
       "   gender  gender_code\n",
       "0       F          0.0\n",
       "1       F          0.0\n",
       "2       F          0.0\n",
       "3       F          0.0\n",
       "4       F          0.0\n",
       "5       F          0.0\n",
       "6       F          0.0\n",
       "7       F          0.0\n",
       "8       F          0.0\n",
       "9       F          0.0\n",
       "10      F          0.0\n",
       "11      M          1.0\n",
       "12      M          1.0\n",
       "13      M          1.0\n",
       "14      M          1.0\n",
       "15      M          1.0\n",
       "16      M          1.0\n",
       "17      M          1.0\n",
       "18      M          1.0\n",
       "19      M          1.0"
      ]
     },
     "execution_count": 19,
     "metadata": {},
     "output_type": "execute_result"
    }
   ],
   "source": [
    "#Transforming the Gender column to numbers\n",
    "\n",
    "ord_enc = OrdinalEncoder()\n",
    "opinion[\"gender_code\"] = ord_enc.fit_transform(opinion[[\"gender\"]])\n",
    "opinion[[\"gender\", \"gender_code\"]].head(20)"
   ]
  },
  {
   "cell_type": "code",
   "execution_count": 20,
   "id": "9bd83052",
   "metadata": {},
   "outputs": [
    {
     "data": {
      "text/html": [
       "<div>\n",
       "<style scoped>\n",
       "    .dataframe tbody tr th:only-of-type {\n",
       "        vertical-align: middle;\n",
       "    }\n",
       "\n",
       "    .dataframe tbody tr th {\n",
       "        vertical-align: top;\n",
       "    }\n",
       "\n",
       "    .dataframe thead th {\n",
       "        text-align: right;\n",
       "    }\n",
       "</style>\n",
       "<table border=\"1\" class=\"dataframe\">\n",
       "  <thead>\n",
       "    <tr style=\"text-align: right;\">\n",
       "      <th></th>\n",
       "      <th>category</th>\n",
       "      <th>category_code</th>\n",
       "    </tr>\n",
       "  </thead>\n",
       "  <tbody>\n",
       "    <tr>\n",
       "      <th>0</th>\n",
       "      <td>Online Stores &amp; Services</td>\n",
       "      <td>6.0</td>\n",
       "    </tr>\n",
       "    <tr>\n",
       "      <th>1</th>\n",
       "      <td>Movies</td>\n",
       "      <td>5.0</td>\n",
       "    </tr>\n",
       "    <tr>\n",
       "      <th>2</th>\n",
       "      <td>Movies</td>\n",
       "      <td>5.0</td>\n",
       "    </tr>\n",
       "    <tr>\n",
       "      <th>3</th>\n",
       "      <td>Movies</td>\n",
       "      <td>5.0</td>\n",
       "    </tr>\n",
       "    <tr>\n",
       "      <th>4</th>\n",
       "      <td>Movies</td>\n",
       "      <td>5.0</td>\n",
       "    </tr>\n",
       "    <tr>\n",
       "      <th>5</th>\n",
       "      <td>Hotels &amp; Travel</td>\n",
       "      <td>2.0</td>\n",
       "    </tr>\n",
       "    <tr>\n",
       "      <th>6</th>\n",
       "      <td>Online Stores &amp; Services</td>\n",
       "      <td>6.0</td>\n",
       "    </tr>\n",
       "    <tr>\n",
       "      <th>7</th>\n",
       "      <td>Movies</td>\n",
       "      <td>5.0</td>\n",
       "    </tr>\n",
       "    <tr>\n",
       "      <th>8</th>\n",
       "      <td>Hotels &amp; Travel</td>\n",
       "      <td>2.0</td>\n",
       "    </tr>\n",
       "    <tr>\n",
       "      <th>9</th>\n",
       "      <td>Movies</td>\n",
       "      <td>5.0</td>\n",
       "    </tr>\n",
       "    <tr>\n",
       "      <th>10</th>\n",
       "      <td>Games</td>\n",
       "      <td>1.0</td>\n",
       "    </tr>\n",
       "    <tr>\n",
       "      <th>11</th>\n",
       "      <td>Movies</td>\n",
       "      <td>5.0</td>\n",
       "    </tr>\n",
       "    <tr>\n",
       "      <th>12</th>\n",
       "      <td>Movies</td>\n",
       "      <td>5.0</td>\n",
       "    </tr>\n",
       "    <tr>\n",
       "      <th>13</th>\n",
       "      <td>Movies</td>\n",
       "      <td>5.0</td>\n",
       "    </tr>\n",
       "    <tr>\n",
       "      <th>14</th>\n",
       "      <td>Movies</td>\n",
       "      <td>5.0</td>\n",
       "    </tr>\n",
       "    <tr>\n",
       "      <th>15</th>\n",
       "      <td>Games</td>\n",
       "      <td>1.0</td>\n",
       "    </tr>\n",
       "    <tr>\n",
       "      <th>16</th>\n",
       "      <td>Movies</td>\n",
       "      <td>5.0</td>\n",
       "    </tr>\n",
       "    <tr>\n",
       "      <th>17</th>\n",
       "      <td>Games</td>\n",
       "      <td>1.0</td>\n",
       "    </tr>\n",
       "    <tr>\n",
       "      <th>18</th>\n",
       "      <td>Movies</td>\n",
       "      <td>5.0</td>\n",
       "    </tr>\n",
       "    <tr>\n",
       "      <th>19</th>\n",
       "      <td>Movies</td>\n",
       "      <td>5.0</td>\n",
       "    </tr>\n",
       "  </tbody>\n",
       "</table>\n",
       "</div>"
      ],
      "text/plain": [
       "                    category  category_code\n",
       "0   Online Stores & Services            6.0\n",
       "1                     Movies            5.0\n",
       "2                     Movies            5.0\n",
       "3                     Movies            5.0\n",
       "4                     Movies            5.0\n",
       "5            Hotels & Travel            2.0\n",
       "6   Online Stores & Services            6.0\n",
       "7                     Movies            5.0\n",
       "8            Hotels & Travel            2.0\n",
       "9                     Movies            5.0\n",
       "10                     Games            1.0\n",
       "11                    Movies            5.0\n",
       "12                    Movies            5.0\n",
       "13                    Movies            5.0\n",
       "14                    Movies            5.0\n",
       "15                     Games            1.0\n",
       "16                    Movies            5.0\n",
       "17                     Games            1.0\n",
       "18                    Movies            5.0\n",
       "19                    Movies            5.0"
      ]
     },
     "execution_count": 20,
     "metadata": {},
     "output_type": "execute_result"
    }
   ],
   "source": [
    "#Transforming the Category column to numbers\n",
    "\n",
    "ord_enc = OrdinalEncoder()\n",
    "opinion[\"category_code\"] = ord_enc.fit_transform(opinion[[\"category\"]])\n",
    "opinion[[\"category\", \"category_code\"]].head(20)"
   ]
  },
  {
   "cell_type": "code",
   "execution_count": 21,
   "id": "69a8adfd",
   "metadata": {},
   "outputs": [
    {
     "data": {
      "text/html": [
       "<div>\n",
       "<style scoped>\n",
       "    .dataframe tbody tr th:only-of-type {\n",
       "        vertical-align: middle;\n",
       "    }\n",
       "\n",
       "    .dataframe tbody tr th {\n",
       "        vertical-align: top;\n",
       "    }\n",
       "\n",
       "    .dataframe thead th {\n",
       "        text-align: right;\n",
       "    }\n",
       "</style>\n",
       "<table border=\"1\" class=\"dataframe\">\n",
       "  <thead>\n",
       "    <tr style=\"text-align: right;\">\n",
       "      <th></th>\n",
       "      <th>review</th>\n",
       "      <th>review_code</th>\n",
       "    </tr>\n",
       "  </thead>\n",
       "  <tbody>\n",
       "    <tr>\n",
       "      <th>0</th>\n",
       "      <td>Finally, Something for (Relatively) Nothing</td>\n",
       "      <td>856.0</td>\n",
       "    </tr>\n",
       "    <tr>\n",
       "      <th>1</th>\n",
       "      <td>Shocking!</td>\n",
       "      <td>1985.0</td>\n",
       "    </tr>\n",
       "    <tr>\n",
       "      <th>2</th>\n",
       "      <td>Simply Shaggadelic!</td>\n",
       "      <td>2006.0</td>\n",
       "    </tr>\n",
       "    <tr>\n",
       "      <th>3</th>\n",
       "      <td>Better Than The First!</td>\n",
       "      <td>472.0</td>\n",
       "    </tr>\n",
       "    <tr>\n",
       "      <th>4</th>\n",
       "      <td>Blair Witch made me appreciate this</td>\n",
       "      <td>493.0</td>\n",
       "    </tr>\n",
       "    <tr>\n",
       "      <th>5</th>\n",
       "      <td>Come here at least once in your life... stay a...</td>\n",
       "      <td>599.0</td>\n",
       "    </tr>\n",
       "    <tr>\n",
       "      <th>6</th>\n",
       "      <td>I joined for the free camera, and stood for no...</td>\n",
       "      <td>1232.0</td>\n",
       "    </tr>\n",
       "    <tr>\n",
       "      <th>7</th>\n",
       "      <td>They Should've Fooled the American Public</td>\n",
       "      <td>2415.0</td>\n",
       "    </tr>\n",
       "    <tr>\n",
       "      <th>8</th>\n",
       "      <td>A Short List of Things to Remember in NYC</td>\n",
       "      <td>136.0</td>\n",
       "    </tr>\n",
       "    <tr>\n",
       "      <th>9</th>\n",
       "      <td>Do you know what a metaphysical can of worms t...</td>\n",
       "      <td>692.0</td>\n",
       "    </tr>\n",
       "    <tr>\n",
       "      <th>10</th>\n",
       "      <td>The Sims: Better Than Illegal Drugs (Not That ...</td>\n",
       "      <td>2339.0</td>\n",
       "    </tr>\n",
       "    <tr>\n",
       "      <th>11</th>\n",
       "      <td>M. Night Shyamalan's finest moment: Unbreakabl...</td>\n",
       "      <td>1477.0</td>\n",
       "    </tr>\n",
       "    <tr>\n",
       "      <th>12</th>\n",
       "      <td>Erin Brockovich: That movie where Julia Robert...</td>\n",
       "      <td>796.0</td>\n",
       "    </tr>\n",
       "    <tr>\n",
       "      <th>13</th>\n",
       "      <td>Another Cast Away review, that's all this plac...</td>\n",
       "      <td>370.0</td>\n",
       "    </tr>\n",
       "    <tr>\n",
       "      <th>14</th>\n",
       "      <td>I Just Figured, What the Hell.</td>\n",
       "      <td>1190.0</td>\n",
       "    </tr>\n",
       "    <tr>\n",
       "      <th>15</th>\n",
       "      <td>Final Fantasy VIII for Dummies</td>\n",
       "      <td>850.0</td>\n",
       "    </tr>\n",
       "    <tr>\n",
       "      <th>16</th>\n",
       "      <td>David Fincher's Fight Club, it's a Near-Life E...</td>\n",
       "      <td>648.0</td>\n",
       "    </tr>\n",
       "    <tr>\n",
       "      <th>17</th>\n",
       "      <td>I got the Ocarina part, I just can't find the ...</td>\n",
       "      <td>1228.0</td>\n",
       "    </tr>\n",
       "    <tr>\n",
       "      <th>18</th>\n",
       "      <td>Beauty Has No Opposite (Oxymoron Write-Off)</td>\n",
       "      <td>453.0</td>\n",
       "    </tr>\n",
       "    <tr>\n",
       "      <th>19</th>\n",
       "      <td>I was on vacation, so I reloaded The Matrix</td>\n",
       "      <td>1263.0</td>\n",
       "    </tr>\n",
       "  </tbody>\n",
       "</table>\n",
       "</div>"
      ],
      "text/plain": [
       "                                               review  review_code\n",
       "0         Finally, Something for (Relatively) Nothing        856.0\n",
       "1                                           Shocking!       1985.0\n",
       "2                                 Simply Shaggadelic!       2006.0\n",
       "3                              Better Than The First!        472.0\n",
       "4                 Blair Witch made me appreciate this        493.0\n",
       "5   Come here at least once in your life... stay a...        599.0\n",
       "6   I joined for the free camera, and stood for no...       1232.0\n",
       "7           They Should've Fooled the American Public       2415.0\n",
       "8           A Short List of Things to Remember in NYC        136.0\n",
       "9   Do you know what a metaphysical can of worms t...        692.0\n",
       "10  The Sims: Better Than Illegal Drugs (Not That ...       2339.0\n",
       "11  M. Night Shyamalan's finest moment: Unbreakabl...       1477.0\n",
       "12  Erin Brockovich: That movie where Julia Robert...        796.0\n",
       "13  Another Cast Away review, that's all this plac...        370.0\n",
       "14                     I Just Figured, What the Hell.       1190.0\n",
       "15                     Final Fantasy VIII for Dummies        850.0\n",
       "16  David Fincher's Fight Club, it's a Near-Life E...        648.0\n",
       "17  I got the Ocarina part, I just can't find the ...       1228.0\n",
       "18        Beauty Has No Opposite (Oxymoron Write-Off)        453.0\n",
       "19        I was on vacation, so I reloaded The Matrix       1263.0"
      ]
     },
     "execution_count": 21,
     "metadata": {},
     "output_type": "execute_result"
    }
   ],
   "source": [
    "#Transforming the Review column to numbers\n",
    "\n",
    "ord_enc = OrdinalEncoder()\n",
    "opinion[\"review_code\"] = ord_enc.fit_transform(opinion[[\"review\"]])\n",
    "opinion[[\"review\", \"review_code\"]].head(20)"
   ]
  },
  {
   "cell_type": "code",
   "execution_count": 23,
   "id": "13ecff9e",
   "metadata": {},
   "outputs": [
    {
     "data": {
      "text/html": [
       "<div>\n",
       "<style scoped>\n",
       "    .dataframe tbody tr th:only-of-type {\n",
       "        vertical-align: middle;\n",
       "    }\n",
       "\n",
       "    .dataframe tbody tr th {\n",
       "        vertical-align: top;\n",
       "    }\n",
       "\n",
       "    .dataframe thead th {\n",
       "        text-align: right;\n",
       "    }\n",
       "</style>\n",
       "<table border=\"1\" class=\"dataframe\">\n",
       "  <thead>\n",
       "    <tr style=\"text-align: right;\">\n",
       "      <th></th>\n",
       "      <th>userId</th>\n",
       "      <th>timestamp</th>\n",
       "      <th>rating</th>\n",
       "      <th>helpfulness</th>\n",
       "      <th>gender_code</th>\n",
       "      <th>category_code</th>\n",
       "      <th>review_code</th>\n",
       "    </tr>\n",
       "  </thead>\n",
       "  <tbody>\n",
       "    <tr>\n",
       "      <th>userId</th>\n",
       "      <td>1.000000</td>\n",
       "      <td>-0.036399</td>\n",
       "      <td>0.008164</td>\n",
       "      <td>-0.016841</td>\n",
       "      <td>0.056183</td>\n",
       "      <td>0.015408</td>\n",
       "      <td>0.013212</td>\n",
       "    </tr>\n",
       "    <tr>\n",
       "      <th>timestamp</th>\n",
       "      <td>-0.036399</td>\n",
       "      <td>1.000000</td>\n",
       "      <td>0.019860</td>\n",
       "      <td>0.003638</td>\n",
       "      <td>-0.049244</td>\n",
       "      <td>0.037118</td>\n",
       "      <td>-0.025036</td>\n",
       "    </tr>\n",
       "    <tr>\n",
       "      <th>rating</th>\n",
       "      <td>0.008164</td>\n",
       "      <td>0.019860</td>\n",
       "      <td>1.000000</td>\n",
       "      <td>-0.016832</td>\n",
       "      <td>0.018105</td>\n",
       "      <td>-0.140576</td>\n",
       "      <td>-0.062071</td>\n",
       "    </tr>\n",
       "    <tr>\n",
       "      <th>helpfulness</th>\n",
       "      <td>-0.016841</td>\n",
       "      <td>0.003638</td>\n",
       "      <td>-0.016832</td>\n",
       "      <td>1.000000</td>\n",
       "      <td>-0.046627</td>\n",
       "      <td>-0.000189</td>\n",
       "      <td>0.016170</td>\n",
       "    </tr>\n",
       "    <tr>\n",
       "      <th>gender_code</th>\n",
       "      <td>0.056183</td>\n",
       "      <td>-0.049244</td>\n",
       "      <td>0.018105</td>\n",
       "      <td>-0.046627</td>\n",
       "      <td>1.000000</td>\n",
       "      <td>-0.017644</td>\n",
       "      <td>-0.014422</td>\n",
       "    </tr>\n",
       "    <tr>\n",
       "      <th>category_code</th>\n",
       "      <td>0.015408</td>\n",
       "      <td>0.037118</td>\n",
       "      <td>-0.140576</td>\n",
       "      <td>-0.000189</td>\n",
       "      <td>-0.017644</td>\n",
       "      <td>1.000000</td>\n",
       "      <td>0.012047</td>\n",
       "    </tr>\n",
       "    <tr>\n",
       "      <th>review_code</th>\n",
       "      <td>0.013212</td>\n",
       "      <td>-0.025036</td>\n",
       "      <td>-0.062071</td>\n",
       "      <td>0.016170</td>\n",
       "      <td>-0.014422</td>\n",
       "      <td>0.012047</td>\n",
       "      <td>1.000000</td>\n",
       "    </tr>\n",
       "  </tbody>\n",
       "</table>\n",
       "</div>"
      ],
      "text/plain": [
       "                 userId  timestamp    rating  helpfulness  gender_code  \\\n",
       "userId         1.000000  -0.036399  0.008164    -0.016841     0.056183   \n",
       "timestamp     -0.036399   1.000000  0.019860     0.003638    -0.049244   \n",
       "rating         0.008164   0.019860  1.000000    -0.016832     0.018105   \n",
       "helpfulness   -0.016841   0.003638 -0.016832     1.000000    -0.046627   \n",
       "gender_code    0.056183  -0.049244  0.018105    -0.046627     1.000000   \n",
       "category_code  0.015408   0.037118 -0.140576    -0.000189    -0.017644   \n",
       "review_code    0.013212  -0.025036 -0.062071     0.016170    -0.014422   \n",
       "\n",
       "               category_code  review_code  \n",
       "userId              0.015408     0.013212  \n",
       "timestamp           0.037118    -0.025036  \n",
       "rating             -0.140576    -0.062071  \n",
       "helpfulness        -0.000189     0.016170  \n",
       "gender_code        -0.017644    -0.014422  \n",
       "category_code       1.000000     0.012047  \n",
       "review_code         0.012047     1.000000  "
      ]
     },
     "execution_count": 23,
     "metadata": {},
     "output_type": "execute_result"
    }
   ],
   "source": [
    "#We can see correlation of all numbers\n",
    "\n",
    "opinion.corr()"
   ]
  },
  {
   "cell_type": "markdown",
   "id": "c78c2498",
   "metadata": {},
   "source": [
    "- Helpfulness: Rating is correlated negatively, and only slightly with helpfulness, at -0.017\n",
    "- Gender: Rating is correlated positively, slightly at 0.018\n",
    "- Category: Rating is correlated the most out of all features, negatively at -0.14\n",
    "- Review: Rating is correlated negatively, at -0.062\n",
    "\n",
    "Conclusion\n",
    "- More correlated: category, review\n",
    "- Less correlated: helpfulness, gender"
   ]
  },
  {
   "cell_type": "markdown",
   "id": "4842291f",
   "metadata": {},
   "source": [
    "### Split Training and Testing Data\n",
    "* Machine learning models are trained to help make predictions for the future. Normally, we need to randomly split the dataset into training and testing sets, where we use the training set to train the model, and then leverage the well-trained model to make predictions on the testing set. \n",
    "* To further investigate whether the size of the training/testing data affects the model performance, please random split the data into training and testing sets with different sizes:\n",
    "    * Case 1: training data containing 10% of the entire data;\n",
    "    * Case 2: training data containing 90% of the entire data. \n",
    "* Print the shape of training and testing sets in the two cases. "
   ]
  },
  {
   "cell_type": "code",
   "execution_count": 25,
   "id": "1aa1be8c",
   "metadata": {},
   "outputs": [
    {
     "name": "stdout",
     "output_type": "stream",
     "text": [
      "(289, 11)\n",
      "(2610, 11)\n"
     ]
    }
   ],
   "source": [
    "train1, test1 = train_test_split(opinion, test_size=0.9, random_state=142)\n",
    "print(train1.shape)\n",
    "print(test1.shape)"
   ]
  },
  {
   "cell_type": "code",
   "execution_count": 26,
   "id": "daa6bd5a",
   "metadata": {},
   "outputs": [
    {
     "name": "stdout",
     "output_type": "stream",
     "text": [
      "(2609, 11)\n",
      "(290, 11)\n"
     ]
    }
   ],
   "source": [
    "train2, test2 = train_test_split(opinion, test_size=0.1, random_state=142)\n",
    "print(train2.shape)\n",
    "print(test2.shape)"
   ]
  },
  {
   "cell_type": "markdown",
   "id": "7be7e993",
   "metadata": {},
   "source": [
    "### Train Linear Regression Models with Feature Selection under Cases 1 & 2\n",
    "* When training a machine learning model for prediction, we may need to select the most important/correlated input features for more accurate results. \n",
    "* To investigate whether feature selection affects the model performance, please select __two most correlated features and two least correlated features__ regarding rating, respectively. \n",
    "* Train __four__ linear regression models by following the conditions:\n",
    "    - (model-a) using the training/testing data in __case 1__ with __two most__ correlated input features\n",
    "    - (model-b) using the training/testing data in __case 1__ with __two least__ correlated input features\n",
    "    - (model-c) using the training/testing data in __case 2__ with __two most__ correlated input features\n",
    "    - (model-d) using the training/testing data in __case 2__ with __two least__ correlated input features\n",
    "* By doing this, we can verify the impacts of the size of traing/testing data on the model performance via comparing model-a and model-c (or model-b and model-d); meanwhile the impacts of feature selection can be validated via comparing model-a and model-b (or model-c and model-d).    "
   ]
  },
  {
   "cell_type": "code",
   "execution_count": 111,
   "id": "c95c4ad4",
   "metadata": {},
   "outputs": [
    {
     "name": "stdout",
     "output_type": "stream",
     "text": [
      "y = x * [-1.42431568e-01 -1.23547895e-04] + 4.6136429664568475\n"
     ]
    }
   ],
   "source": [
    "#The model\n",
    "reg = linear_model.LinearRegression()\n",
    "\n",
    "#Creating train set for model A\n",
    "Xa = train1[['category_code', 'review_code']]\n",
    "ya = train1['rating']\n",
    "\n",
    "reg.fit(Xa, ya)\n",
    "print(\"y = x *\", reg.coef_, \"+\", reg.intercept_)"
   ]
  },
  {
   "cell_type": "code",
   "execution_count": 113,
   "id": "38c40cf9",
   "metadata": {},
   "outputs": [
    {
     "name": "stdout",
     "output_type": "stream",
     "text": [
      "y = x * [-1.09849814e-01 -9.56920081e-05] + 4.35617662436803\n"
     ]
    }
   ],
   "source": [
    "#Creating test set for model A\n",
    "\n",
    "Xat = test1[['category_code', 'review_code']]\n",
    "yat = test1['rating']\n",
    "\n",
    "reg.fit(Xat, yat)\n",
    "print(\"y = x *\", reg.coef_, \"+\", reg.intercept_)"
   ]
  },
  {
   "cell_type": "code",
   "execution_count": 115,
   "id": "30842081",
   "metadata": {},
   "outputs": [
    {
     "name": "stdout",
     "output_type": "stream",
     "text": [
      "y = x * [-0.32823006  0.14497204] + 4.921999553684607\n"
     ]
    }
   ],
   "source": [
    "#For model B\n",
    "\n",
    "Xb = train1[['helpfulness', 'gender_code']]\n",
    "yb = train1['rating']\n",
    "\n",
    "reg.fit(Xb, yb)\n",
    "print(\"y = x *\", reg.coef_, \"+\", reg.intercept_)"
   ]
  },
  {
   "cell_type": "code",
   "execution_count": 117,
   "id": "fbe3242a",
   "metadata": {},
   "outputs": [
    {
     "name": "stdout",
     "output_type": "stream",
     "text": [
      "y = x * [-0.03588826  0.03734442] + 3.78972511933596\n"
     ]
    }
   ],
   "source": [
    "Xbt = test1[['helpfulness', 'gender_code']]\n",
    "ybt = test1['rating']\n",
    "\n",
    "reg.fit(Xbt, ybt)\n",
    "print(\"y = x *\", reg.coef_, \"+\", reg.intercept_)"
   ]
  },
  {
   "cell_type": "code",
   "execution_count": 119,
   "id": "2629f2cb",
   "metadata": {},
   "outputs": [
    {
     "name": "stdout",
     "output_type": "stream",
     "text": [
      "y = x * [-1.08951296e-01 -7.77769823e-05] + 4.332388331792272\n"
     ]
    }
   ],
   "source": [
    "#For model C\n",
    "\n",
    "Xc = train2[['category_code', 'review_code']]\n",
    "yc = train2['rating']\n",
    "\n",
    "reg.fit(Xc, yc)\n",
    "print(\"y = x *\", reg.coef_, \"+\", reg.intercept_)"
   ]
  },
  {
   "cell_type": "code",
   "execution_count": 121,
   "id": "2a61c1c9",
   "metadata": {},
   "outputs": [
    {
     "name": "stdout",
     "output_type": "stream",
     "text": [
      "y = x * [-0.15120211 -0.00026225] + 4.775462818538641\n"
     ]
    }
   ],
   "source": [
    "Xct = test2[['category_code', 'review_code']]\n",
    "yct = test2['rating']\n",
    "\n",
    "reg.fit(Xct, yct)\n",
    "print(\"y = x *\", reg.coef_, \"+\", reg.intercept_)"
   ]
  },
  {
   "cell_type": "code",
   "execution_count": 135,
   "id": "12ae348c",
   "metadata": {},
   "outputs": [
    {
     "name": "stdout",
     "output_type": "stream",
     "text": [
      "y = x * [-0.32823006  0.14497204] + 4.921999553684607\n"
     ]
    }
   ],
   "source": [
    "#For model D\n",
    "\n",
    "Xd = train2[['helpfulness', 'gender_code']]\n",
    "yd = train2['rating']\n",
    "\n",
    "reg.fit(Xb, yb)\n",
    "print(\"y = x *\", reg.coef_, \"+\", reg.intercept_)"
   ]
  },
  {
   "cell_type": "code",
   "execution_count": 131,
   "id": "1af39f09",
   "metadata": {},
   "outputs": [
    {
     "name": "stdout",
     "output_type": "stream",
     "text": [
      "y = x * [-0.03588826  0.03734442] + 3.78972511933596\n"
     ]
    }
   ],
   "source": [
    "Xdt = test2[['helpfulness', 'gender_code']]\n",
    "ydt = test2['rating']\n",
    "\n",
    "reg.fit(Xbt, ybt)\n",
    "print(\"y = x *\", reg.coef_, \"+\", reg.intercept_)"
   ]
  },
  {
   "cell_type": "markdown",
   "id": "66a6746b",
   "metadata": {},
   "source": [
    "### Evaluate Models\n",
    "* Evaluate the performance of the four models with two metrics, including MSE and Root MSE\n",
    "* Print the results of the four models regarding the two metrics"
   ]
  },
  {
   "cell_type": "code",
   "execution_count": 112,
   "id": "542654c3",
   "metadata": {},
   "outputs": [
    {
     "name": "stdout",
     "output_type": "stream",
     "text": [
      "MSE train: 1.828834570290101\n",
      "R Squared train: 0.03404735252514057\n"
     ]
    }
   ],
   "source": [
    "#Evaluate model A train\n",
    "\n",
    "predicted_traina = reg.predict(Xa)\n",
    "mse_traina = ((np.array(ya)-predicted_traina)**2).sum()/len(ya)\n",
    "r2_traina = r2_score(ya, predicted_traina)\n",
    "print(\"MSE train:\", mse_traina)\n",
    "print(\"R Squared train:\", r2_traina)"
   ]
  },
  {
   "cell_type": "code",
   "execution_count": 114,
   "id": "89556c10",
   "metadata": {},
   "outputs": [
    {
     "name": "stdout",
     "output_type": "stream",
     "text": [
      "MSE test: 1.7596966118345827\n",
      "R Squared test: 0.022390771203009585\n"
     ]
    }
   ],
   "source": [
    "#Evaluate model A test\n",
    "\n",
    "predicted_trainat = reg.predict(Xat)\n",
    "mse_trainat = ((np.array(yat)-predicted_trainat)**2).sum()/len(yat)\n",
    "r2_trainat = r2_score(yat, predicted_trainat)\n",
    "print(\"MSE test:\", mse_trainat)\n",
    "print(\"R Squared test:\", r2_trainat)"
   ]
  },
  {
   "cell_type": "code",
   "execution_count": 116,
   "id": "72eb8bf0",
   "metadata": {},
   "outputs": [
    {
     "name": "stdout",
     "output_type": "stream",
     "text": [
      "MSE train: 1.8760480468086231\n",
      "R Squared train: 0.009110169370119436\n"
     ]
    }
   ],
   "source": [
    "#Evaluate model B train\n",
    "\n",
    "predicted_trainb = reg.predict(Xb)\n",
    "mse_trainb = ((np.array(yb)-predicted_trainb)**2).sum()/len(yb)\n",
    "r2_trainb = r2_score(yb, predicted_trainb)\n",
    "print(\"MSE train:\", mse_trainb)\n",
    "print(\"R Squared train:\", r2_trainb)"
   ]
  },
  {
   "cell_type": "code",
   "execution_count": 118,
   "id": "e66416fd",
   "metadata": {},
   "outputs": [
    {
     "name": "stdout",
     "output_type": "stream",
     "text": [
      "MSE test: 1.799495810986348\n",
      "R Squared test: 0.00028010500758446355\n"
     ]
    }
   ],
   "source": [
    "#Evaluate model B test\n",
    "\n",
    "predicted_trainbt = reg.predict(Xbt)\n",
    "mse_trainbt = ((np.array(ybt)-predicted_trainbt)**2).sum()/len(ybt)\n",
    "r2_trainbt = r2_score(ybt, predicted_trainbt)\n",
    "print(\"MSE test:\", mse_trainbt)\n",
    "print(\"R Squared test:\", r2_trainbt)"
   ]
  },
  {
   "cell_type": "code",
   "execution_count": 120,
   "id": "50b013f0",
   "metadata": {},
   "outputs": [
    {
     "name": "stdout",
     "output_type": "stream",
     "text": [
      "MSE train: 1.7776218948436504\n",
      "R Squared train: 0.020495764175804676\n"
     ]
    }
   ],
   "source": [
    "#Evaluate model C train\n",
    "\n",
    "predicted_trainc = reg.predict(Xc)\n",
    "mse_trainc = ((np.array(yc)-predicted_trainc)**2).sum()/len(yc)\n",
    "r2_trainc = r2_score(yc, predicted_trainc)\n",
    "print(\"MSE train:\", mse_trainc)\n",
    "print(\"R Squared train:\", r2_trainc)"
   ]
  },
  {
   "cell_type": "code",
   "execution_count": 122,
   "id": "4882e628",
   "metadata": {},
   "outputs": [
    {
     "name": "stdout",
     "output_type": "stream",
     "text": [
      "MSE test: 1.645003566408746\n",
      "R Squared test: 0.06609602031258077\n"
     ]
    }
   ],
   "source": [
    "#Evaluate model C test\n",
    "\n",
    "predicted_trainct = reg.predict(Xct)\n",
    "mse_trainct = ((np.array(yct)-predicted_trainct)**2).sum()/len(yct)\n",
    "r2_trainct = r2_score(yct, predicted_trainct)\n",
    "print(\"MSE test:\", mse_trainct)\n",
    "print(\"R Squared test:\", r2_trainct)"
   ]
  },
  {
   "cell_type": "code",
   "execution_count": 136,
   "id": "8953d67c",
   "metadata": {},
   "outputs": [
    {
     "name": "stdout",
     "output_type": "stream",
     "text": [
      "MSE train: 1.8258564579233003\n",
      "R Squared train: -0.006082418162460135\n"
     ]
    }
   ],
   "source": [
    "#Evaluate model D train\n",
    "\n",
    "predicted_traind = reg.predict(Xd)\n",
    "mse_traind = ((np.array(yd)-predicted_traind)**2).sum()/len(yd)\n",
    "r2_traind = r2_score(yd, predicted_traind)\n",
    "print(\"MSE train:\", mse_traind)\n",
    "print(\"R Squared train:\", r2_traind)"
   ]
  },
  {
   "cell_type": "code",
   "execution_count": 132,
   "id": "4284b1c7",
   "metadata": {},
   "outputs": [
    {
     "name": "stdout",
     "output_type": "stream",
     "text": [
      "MSE test: 1.7577971671677723\n",
      "R Squared test: 0.0020606621023272487\n"
     ]
    }
   ],
   "source": [
    "#Evaluate model D test\n",
    "\n",
    "predicted_traindt = reg.predict(Xdt)\n",
    "mse_traindt = ((np.array(ydt)-predicted_traindt)**2).sum()/len(ydt)\n",
    "r2_traindt = r2_score(ydt, predicted_traindt)\n",
    "print(\"MSE test:\", mse_traindt)\n",
    "print(\"R Squared test:\", r2_traindt)"
   ]
  },
  {
   "cell_type": "markdown",
   "id": "03a88e1d",
   "metadata": {},
   "source": [
    "### Visualize, Compare and Analyze the Results\n",
    "* Visulize the results, and perform ___insightful analysis___ on the obtained results. For better visualization, you may need to carefully set the scale for the y-axis.\n",
    "* Normally, the model trained with most correlated features and more training data will get better results. Do you obtain the similar observations? If not, please ___explain the possible reasons___."
   ]
  },
  {
   "cell_type": "code",
   "execution_count": 127,
   "id": "7fda28e8",
   "metadata": {},
   "outputs": [
    {
     "data": {
      "text/html": [
       "<div>\n",
       "<style scoped>\n",
       "    .dataframe tbody tr th:only-of-type {\n",
       "        vertical-align: middle;\n",
       "    }\n",
       "\n",
       "    .dataframe tbody tr th {\n",
       "        vertical-align: top;\n",
       "    }\n",
       "\n",
       "    .dataframe thead th {\n",
       "        text-align: right;\n",
       "    }\n",
       "</style>\n",
       "<table border=\"1\" class=\"dataframe\">\n",
       "  <thead>\n",
       "    <tr style=\"text-align: right;\">\n",
       "      <th></th>\n",
       "      <th>mse Train</th>\n",
       "      <th>mse Test</th>\n",
       "      <th>Rsquared Train</th>\n",
       "      <th>Rsquared Test</th>\n",
       "    </tr>\n",
       "  </thead>\n",
       "  <tbody>\n",
       "    <tr>\n",
       "      <th>Model A</th>\n",
       "      <td>1.828835</td>\n",
       "      <td>1.759697</td>\n",
       "      <td>0.034047</td>\n",
       "      <td>0.022391</td>\n",
       "    </tr>\n",
       "    <tr>\n",
       "      <th>Model B</th>\n",
       "      <td>1.876048</td>\n",
       "      <td>1.799496</td>\n",
       "      <td>0.009110</td>\n",
       "      <td>0.000280</td>\n",
       "    </tr>\n",
       "    <tr>\n",
       "      <th>Model C</th>\n",
       "      <td>1.777622</td>\n",
       "      <td>1.645004</td>\n",
       "      <td>0.020496</td>\n",
       "      <td>0.066096</td>\n",
       "    </tr>\n",
       "    <tr>\n",
       "      <th>Model D</th>\n",
       "      <td>1.825856</td>\n",
       "      <td>1.757797</td>\n",
       "      <td>-0.006082</td>\n",
       "      <td>0.002061</td>\n",
       "    </tr>\n",
       "  </tbody>\n",
       "</table>\n",
       "</div>"
      ],
      "text/plain": [
       "         mse Train  mse Test  Rsquared Train  Rsquared Test\n",
       "Model A   1.828835  1.759697        0.034047       0.022391\n",
       "Model B   1.876048  1.799496        0.009110       0.000280\n",
       "Model C   1.777622  1.645004        0.020496       0.066096\n",
       "Model D   1.825856  1.757797       -0.006082       0.002061"
      ]
     },
     "execution_count": 127,
     "metadata": {},
     "output_type": "execute_result"
    }
   ],
   "source": [
    "#Creating a dataframe for all the values found for 4 models to evaluate\n",
    "\n",
    "results = pd.DataFrame({'mse Train': [mse_traina, mse_trainb, mse_trainc, mse_traind],\n",
    "                         'mse Test': [mse_trainat, mse_trainbt, mse_trainct, mse_traindt],\n",
    "                         'Rsquared Train': [r2_traina, r2_trainb, r2_trainc, r2_traind],\n",
    "                         'Rsquared Test': [r2_trainat, r2_trainbt, r2_trainct, r2_traindt]},\n",
    "                  index = ['Model A', 'Model B', 'Model C', 'Model D'])\n",
    "\n",
    "results"
   ]
  },
  {
   "cell_type": "code",
   "execution_count": 128,
   "id": "0884812b",
   "metadata": {},
   "outputs": [
    {
     "data": {
      "text/plain": [
       "<AxesSubplot:>"
      ]
     },
     "execution_count": 128,
     "metadata": {},
     "output_type": "execute_result"
    },
    {
     "data": {
      "image/png": "[encoded data removed]",
      "text/plain": [
       "<Figure size 432x288 with 1 Axes>"
      ]
     },
     "metadata": {
      "needs_background": "light"
     },
     "output_type": "display_data"
    }
   ],
   "source": [
    "#Create bar plots for the values of mse\n",
    "\n",
    "results[['mse Train', 'mse Test']].plot.bar(rot=0)"
   ]
  },
  {
   "cell_type": "code",
   "execution_count": 129,
   "id": "5b6379a8",
   "metadata": {},
   "outputs": [
    {
     "data": {
      "text/plain": [
       "<AxesSubplot:>"
      ]
     },
     "execution_count": 129,
     "metadata": {},
     "output_type": "execute_result"
    },
    {
     "data": {
      "image/png": "[encoded data removed]",
      "text/plain": [
       "<Figure size 432x288 with 1 Axes>"
      ]
     },
     "metadata": {
      "needs_background": "light"
     },
     "output_type": "display_data"
    }
   ],
   "source": [
    "#Create bar plots for the values of Rsquared\n",
    "\n",
    "\n",
    "results[['Rsquared Train', 'Rsquared Test']].plot.bar(rot=0)"
   ]
  },
  {
   "cell_type": "markdown",
   "id": "aa5fa066",
   "metadata": {},
   "source": [
    "MSE\n",
    "- We can see that Model C performs the best, as MSE is lowest for both train and test sets\n",
    "- By MSE, all models overfitted to the train set\n",
    "\n",
    "Rsquared\n",
    "- By Rsquared, we see that model C again performs the best, as Rsquared did not overfit to train set, and has highest Rsquared in test case\n",
    "- Model A performed best on train set but did not perform as well on test set\n",
    "\n",
    "Conclusion\n",
    "- This makes sense, as model C is with bigger training set and also with the more correlated features"
   ]
  }
 ],
 "metadata": {
  "kernelspec": {
   "display_name": "Python 3 (ipykernel)",
   "language": "python",
   "name": "python3"
  },
  "language_info": {
   "codemirror_mode": {
    "name": "ipython",
    "version": 3
   },
   "file_extension": ".py",
   "mimetype": "text/x-python",
   "name": "python",
   "nbconvert_exporter": "python",
   "pygments_lexer": "ipython3",
   "version": "3.10.5"
  }
 },
 "nbformat": 4,
 "nbformat_minor": 5
}
